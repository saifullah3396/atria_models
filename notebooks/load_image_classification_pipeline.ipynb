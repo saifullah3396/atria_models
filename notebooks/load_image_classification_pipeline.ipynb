{
 "cells": [
  {
   "cell_type": "code",
   "execution_count": 5,
   "metadata": {},
   "outputs": [
    {
     "name": "stdout",
     "output_type": "stream",
     "text": [
      "The autoreload extension is already loaded. To reload it, use:\n",
      "  %reload_ext autoreload\n"
     ]
    }
   ],
   "source": [
    "%load_ext autoreload\n",
    "%autoreload 2"
   ]
  },
  {
   "cell_type": "code",
   "execution_count": 6,
   "metadata": {},
   "outputs": [
    {
     "name": "stderr",
     "output_type": "stream",
     "text": [
      "[2025-07-20 17:59:43][atria_models.core.timm_model][INFO] Setting up model TimmModel(model_name='resnet50', num_classes=10)\n"
     ]
    },
    {
     "name": "stdout",
     "output_type": "stream",
     "text": [
      "ImageClassificationPipeline:\n",
      "===========================================================================\n",
      "Layer (type:depth-idx)                             Param #\n",
      "===========================================================================\n",
      "ModuleDict                                         --\n",
      "├─TimmModel: 1-1                                   --\n",
      "│    └─ResNet: 2-1                                 --\n",
      "│    │    └─Conv2d: 3-1                            9,408\n",
      "│    │    └─BatchNorm2d: 3-2                       128\n",
      "│    │    └─ReLU: 3-3                              --\n",
      "│    │    └─MaxPool2d: 3-4                         --\n",
      "│    │    └─Sequential: 3-5                        215,808\n",
      "│    │    └─Sequential: 3-6                        1,219,584\n",
      "│    │    └─Sequential: 3-7                        7,098,368\n",
      "│    │    └─Sequential: 3-8                        14,964,736\n",
      "│    │    └─SelectAdaptivePool2d: 3-9              --\n",
      "│    │    └─Linear: 3-10                           20,490\n",
      "├─CrossEntropyLoss: 1-2                            --\n",
      "├─CrossEntropyLoss: 1-3                            --\n",
      "===========================================================================\n",
      "Total params: 23,528,522\n",
      "Trainable params: 23,528,522\n",
      "Non-trainable params: 0\n",
      "===========================================================================\n"
     ]
    }
   ],
   "source": [
    "from atria_models.pipelines.atria_model_pipeline import AtriaModelPipeline\n",
    "from atria_models.registry import MODEL_PIPELINE\n",
    "import json\n",
    "from atria_core.types import DatasetMetadata, DatasetLabels\n",
    "\n",
    "model_pipeline: AtriaModelPipeline = AtriaModelPipeline.load_from_registry(\n",
    "    \"image_classification\",\n",
    "    model_name=\"resnet50\",\n",
    "    dataset_metadata=DatasetMetadata(\n",
    "        dataset_labels=DatasetLabels(classification=[str(i) for i in range(10)])\n",
    "    ),\n",
    "    overrides=[\"model_pipeline.model.model_name=resnet50\"],\n",
    "    provider=\"atria_models\",\n",
    "    search_pkgs=[\"atria_models\", \"atria_transforms\"],\n",
    ")\n",
    "print(model_pipeline)"
   ]
  },
  {
   "cell_type": "code",
   "execution_count": 7,
   "metadata": {},
   "outputs": [
    {
     "name": "stderr",
     "output_type": "stream",
     "text": [
      "[2025-07-20 17:59:43][atria_models.utilities.nn_modules][INFO] Moving model to available device: cpu\n"
     ]
    },
    {
     "name": "stdout",
     "output_type": "stream",
     "text": [
      "cpu\n"
     ]
    }
   ],
   "source": [
    "model_pipeline.to_device()\n",
    "print(model_pipeline.model._model.conv1.weight.device)"
   ]
  },
  {
   "cell_type": "code",
   "execution_count": 8,
   "metadata": {},
   "outputs": [
    {
     "name": "stdout",
     "output_type": "stream",
     "text": [
      "{'_is_multilabel': False, '_type': None, '_num_classes': None, '_output_transform': <function _output_transform at 0x71e496061080>, '_device': device(type='cpu'), '_skip_unrolling': False, '_double_dtype': torch.float64, '_num_correct': tensor(0), '_num_examples': 0}\n"
     ]
    }
   ],
   "source": [
    "acc = model_pipeline.metrics['accuracy']\n",
    "print(acc.__dict__)\n",
    "# print(acc)\n",
    "# from ignite.metrics import Accuracy\n",
    "# acc.to('cpu')"
   ]
  },
  {
   "cell_type": "code",
   "execution_count": 9,
   "metadata": {},
   "outputs": [
    {
     "name": "stdout",
     "output_type": "stream",
     "text": [
      "[4, 10, 2, 10, 10, 8, 10, 6, 2, 5]\n",
      "[9, 3, 0, 10, 5, 7, 1, 3, 7, 0]\n"
     ]
    },
    {
     "data": {
      "text/plain": [
       "ClassificationModelOutput(loss=tensor(2.3843, grad_fn=<NllLossBackward0>), logits=tensor([[-0.0123, -0.0721,  0.2128,  0.3599,  0.1587,  0.1840, -0.0034,  0.3808,\n",
       "         -0.3062,  0.0308]], grad_fn=<AddmmBackward0>), prediction=None, label=Label(value=tensor([9]), name=['interesting']))"
      ]
     },
     "execution_count": 9,
     "metadata": {},
     "output_type": "execute_result"
    }
   ],
   "source": [
    "from atria_core.types.factory import ImageInstanceFactory\n",
    "from atria_core.types import GroundTruth\n",
    "model_pipeline.enable_runtime_transforms()\n",
    "image = ImageInstanceFactory.build()\n",
    "image.gt = GroundTruth(classification = image.gt.classification)\n",
    "model_pipeline.training_step([image])"
   ]
  },
  {
   "cell_type": "code",
   "execution_count": null,
   "metadata": {},
   "outputs": [
    {
     "ename": "ModuleNotFoundError",
     "evalue": "No module named 'atria_ml'",
     "output_type": "error",
     "traceback": [
      "\u001b[31m---------------------------------------------------------------------------\u001b[39m",
      "\u001b[31mModuleNotFoundError\u001b[39m                       Traceback (most recent call last)",
      "\u001b[36mCell\u001b[39m\u001b[36m \u001b[39m\u001b[32mIn[6]\u001b[39m\u001b[32m, line 5\u001b[39m\n\u001b[32m      3\u001b[39m \u001b[38;5;28;01mimport\u001b[39;00m\u001b[38;5;250m \u001b[39m\u001b[34;01msys\u001b[39;00m \n\u001b[32m      4\u001b[39m sys.path.append(\u001b[33m\"\u001b[39m\u001b[33m../src/\u001b[39m\u001b[33m\"\u001b[39m)\n\u001b[32m----> \u001b[39m\u001b[32m5\u001b[39m \u001b[38;5;28;01mimport\u001b[39;00m\u001b[38;5;250m \u001b[39m\u001b[34;01matria_ml\u001b[39;00m\n",
      "\u001b[31mModuleNotFoundError\u001b[39m: No module named 'atria_ml'"
     ]
    }
   ],
   "source": []
  },
  {
   "cell_type": "code",
   "execution_count": 11,
   "metadata": {},
   "outputs": [],
   "source": [
    "# from atria_models.pipelines.classification.image import ImageClassificationPipeline\n",
    "\n",
    "# print(model_pipeline.config)\n",
    "# model_pipeline.upload_to_hub(\n",
    "#     \"mymodel\"\n",
    "# )\n",
    "\n",
    "# loaded = ImageClassificationPipeline.load_from_hub(\n",
    "#     \"mymodel\", \n",
    "# )"
   ]
  },
  {
   "cell_type": "code",
   "execution_count": 12,
   "metadata": {},
   "outputs": [],
   "source": [
    "# loaded.state_dict()['dataset_metadata'] = model_pipeline.state_dict()['dataset_metadata']\n",
    "# loaded.state_dict()['config'] = model_pipeline.state_dict()['config']\n",
    "# print(loaded.state_dict()['config'])"
   ]
  },
  {
   "cell_type": "code",
   "execution_count": 13,
   "metadata": {},
   "outputs": [],
   "source": [
    "# from atria_models.pipelines.classification.image import ImageClassificationPipeline\n",
    "# from omegaconf import OmegaConf\n",
    "# from atria_models.registry import MODEL\n",
    "# from atria_models.core.timm_model import TimmModel\n",
    "# from rich.pretty import pretty_repr\n",
    "# import json\n",
    "# model = TimmModel(model_name=\"resnet50\")\n",
    "# pipeline = ImageClassificationPipeline(model=model, checkpoint_configs='test')\n",
    "# print(json.dumps(pipeline._config, indent=2))"
   ]
  }
 ],
 "metadata": {
  "kernelspec": {
   "display_name": "atria-models",
   "language": "python",
   "name": "python3"
  },
  "language_info": {
   "codemirror_mode": {
    "name": "ipython",
    "version": 3
   },
   "file_extension": ".py",
   "mimetype": "text/x-python",
   "name": "python",
   "nbconvert_exporter": "python",
   "pygments_lexer": "ipython3",
   "version": "3.11.12"
  }
 },
 "nbformat": 4,
 "nbformat_minor": 2
}
